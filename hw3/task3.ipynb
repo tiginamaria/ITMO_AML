{
 "nbformat": 4,
 "nbformat_minor": 0,
 "metadata": {
  "colab": {
   "name": "VAE.ipynb",
   "provenance": [],
   "collapsed_sections": []
  },
  "kernelspec": {
   "name": "python3",
   "display_name": "Python 3"
  },
  "language_info": {
   "name": "python"
  }
 },
 "cells": [
  {
   "cell_type": "code",
   "execution_count": 1,
   "metadata": {
    "colab": {
     "base_uri": "https://localhost:8080/"
    },
    "id": "spy25B4ZJOMA",
    "outputId": "c276fd4e-8ea5-4fc1-f5ca-45de2e529efe",
    "pycharm": {
     "name": "#%%\n"
    }
   },
   "outputs": [
    {
     "name": "stdout",
     "output_type": "stream",
     "text": [
      "\u001B[33mDEPRECATION: Configuring installation scheme with distutils config files is deprecated and will no longer work in the near future. If you are using a Homebrew or Linuxbrew Python, please see discussion at https://github.com/Homebrew/homebrew-core/issues/76621\u001B[0m\u001B[33m\r\n",
      "\u001B[0m\u001B[31mERROR: Could not find a version that satisfies the requirement tensorflow==1.14 (from versions: 2.5.0, 2.5.1, 2.5.2, 2.5.3, 2.6.0rc0, 2.6.0rc1, 2.6.0rc2, 2.6.0, 2.6.1, 2.6.2, 2.6.3, 2.6.4, 2.6.5, 2.7.0rc0, 2.7.0rc1, 2.7.0, 2.7.1, 2.7.2, 2.7.3, 2.7.4, 2.8.0rc0, 2.8.0rc1, 2.8.0, 2.8.1, 2.8.2, 2.8.3, 2.9.0rc0, 2.9.0rc1, 2.9.0rc2, 2.9.0, 2.9.1, 2.9.2, 2.10.0rc0, 2.10.0rc1, 2.10.0rc2, 2.10.0rc3, 2.10.0)\u001B[0m\u001B[31m\r\n",
      "\u001B[0m\u001B[31mERROR: No matching distribution found for tensorflow==1.14\u001B[0m\u001B[31m\r\n",
      "\u001B[0m"
     ]
    }
   ],
   "source": [
    "!pip install tensorflow==1.14"
   ]
  },
  {
   "cell_type": "code",
   "source": [
    "import numpy as np\n",
    "import tensorflow as tf\n",
    "from tensorflow.examples.tutorials.mnist import input_data\n",
    "import matplotlib.pyplot as plt\n",
    "\n",
    "np.random.seed(42)\n",
    "tf.set_random_seed(42)\n",
    "\n",
    "%matplotlib inline"
   ],
   "metadata": {
    "id": "JcA5z_ZCK73v",
    "pycharm": {
     "name": "#%%\n"
    }
   },
   "execution_count": 2,
   "outputs": [
    {
     "name": "stderr",
     "output_type": "stream",
     "text": [
      "2022-10-15 15:20:03.762508: I tensorflow/core/platform/cpu_feature_guard.cc:193] This TensorFlow binary is optimized with oneAPI Deep Neural Network Library (oneDNN) to use the following CPU instructions in performance-critical operations:  AVX2 AVX512F AVX512_VNNI FMA\n",
      "To enable them in other operations, rebuild TensorFlow with the appropriate compiler flags.\n"
     ]
    },
    {
     "ename": "ModuleNotFoundError",
     "evalue": "No module named 'tensorflow.examples'",
     "output_type": "error",
     "traceback": [
      "\u001B[0;31m---------------------------------------------------------------------------\u001B[0m",
      "\u001B[0;31mModuleNotFoundError\u001B[0m                       Traceback (most recent call last)",
      "Cell \u001B[0;32mIn [2], line 3\u001B[0m\n\u001B[1;32m      1\u001B[0m \u001B[38;5;28;01mimport\u001B[39;00m \u001B[38;5;21;01mnumpy\u001B[39;00m \u001B[38;5;28;01mas\u001B[39;00m \u001B[38;5;21;01mnp\u001B[39;00m\n\u001B[1;32m      2\u001B[0m \u001B[38;5;28;01mimport\u001B[39;00m \u001B[38;5;21;01mtensorflow\u001B[39;00m \u001B[38;5;28;01mas\u001B[39;00m \u001B[38;5;21;01mtf\u001B[39;00m\n\u001B[0;32m----> 3\u001B[0m \u001B[38;5;28;01mfrom\u001B[39;00m \u001B[38;5;21;01mtensorflow\u001B[39;00m\u001B[38;5;21;01m.\u001B[39;00m\u001B[38;5;21;01mexamples\u001B[39;00m\u001B[38;5;21;01m.\u001B[39;00m\u001B[38;5;21;01mtutorials\u001B[39;00m\u001B[38;5;21;01m.\u001B[39;00m\u001B[38;5;21;01mmnist\u001B[39;00m \u001B[38;5;28;01mimport\u001B[39;00m input_data\n\u001B[1;32m      4\u001B[0m \u001B[38;5;28;01mimport\u001B[39;00m \u001B[38;5;21;01mmatplotlib\u001B[39;00m\u001B[38;5;21;01m.\u001B[39;00m\u001B[38;5;21;01mpyplot\u001B[39;00m \u001B[38;5;28;01mas\u001B[39;00m \u001B[38;5;21;01mplt\u001B[39;00m\n\u001B[1;32m      6\u001B[0m np\u001B[38;5;241m.\u001B[39mrandom\u001B[38;5;241m.\u001B[39mseed(\u001B[38;5;241m42\u001B[39m)\n",
      "\u001B[0;31mModuleNotFoundError\u001B[0m: No module named 'tensorflow.examples'"
     ]
    }
   ]
  },
  {
   "cell_type": "code",
   "source": [
    "mnist = input_data.read_data_sets('MNIST_data')\n",
    "input_size = 28 * 28\n",
    "num_digits = 10"
   ],
   "metadata": {
    "colab": {
     "base_uri": "https://localhost:8080/"
    },
    "id": "c3qyYVFoJWeo",
    "outputId": "3e4fe3f0-e852-4ba6-87e1-ac452342707c",
    "pycharm": {
     "name": "#%%\n"
    }
   },
   "execution_count": null,
   "outputs": []
  },
  {
   "cell_type": "code",
   "source": [
    "params = {\n",
    "    'encoder_layers': [128],                \n",
    "    'decoder_layers': [128],                \n",
    "    'digit_classification_layers': [128],   # for conditions\n",
    "    'activation': tf.nn.sigmoid,            \n",
    "    'decoder_std': 0.5,                     # std for P(x|z) \n",
    "    'z_dim': 10,                            # latent space dimension\n",
    "    'digit_classification_weight': 10.0,    # for conditions\n",
    "    'epochs': 25,\n",
    "    'batch_size': 100,\n",
    "    'learning_rate': 0.001\n",
    "}"
   ],
   "metadata": {
    "id": "2MG3WlQHJWto",
    "pycharm": {
     "name": "#%%\n"
    }
   },
   "execution_count": null,
   "outputs": []
  },
  {
   "cell_type": "code",
   "source": [
    "images = tf.placeholder(tf.float32, [None, input_size])\n",
    "digits = tf.placeholder(tf.int32, [None])\n",
    "\n",
    "# encode the image into latent space\n",
    "encoder_mu, encoder_var = encoder(images,\n",
    "                                  params['encoder_layers'])\n",
    "\n",
    "# sample the vector from latent space, using\n",
    "# reparametrization\n",
    "eps = tf.random_normal(shape=[tf.shape(images)[0],\n",
    "                              params['z_dim']],\n",
    "                       mean=0.0,\n",
    "                       stddev=1.0)\n",
    "z = encoder_mu + tf.sqrt(encoder_var) * eps\n",
    "\n",
    "# classify the digit\n",
    "digit_logits = digit_classifier(images,\n",
    "                                params['digit_classification_layers'])\n",
    "digit_prob = tf.nn.softmax(digit_logits)\n",
    "\n",
    "# decode latent vector using digit classification condition into the image\n",
    "decoded_images = decoder(tf.concat([z, digit_prob], axis=1),\n",
    "                         params['decoder_layers'])"
   ],
   "metadata": {
    "id": "IiZ4aXRIKqXW",
    "colab": {
     "base_uri": "https://localhost:8080/"
    },
    "outputId": "42857d4d-7ef8-44c8-daee-1598235048b0",
    "pycharm": {
     "name": "#%%\n"
    }
   },
   "execution_count": null,
   "outputs": []
  },
  {
   "cell_type": "code",
   "source": [
    "def encoder(x, layers):\n",
    "    for layer in layers:\n",
    "        x = tf.layers.dense(x,\n",
    "                            layer,\n",
    "                            activation=params['activation'])\n",
    "    mu = tf.layers.dense(x, params['z_dim'])\n",
    "    var = 1e-5 + tf.exp(tf.layers.dense(x, params['z_dim']))\n",
    "    return mu, var\n",
    "\n",
    "\n",
    "def decoder(z, layers):\n",
    "    for layer in layers:\n",
    "        z = tf.layers.dense(z,\n",
    "                            layer,\n",
    "                            activation=params['activation'])\n",
    "    mu = tf.layers.dense(z, input_size)\n",
    "    return tf.nn.sigmoid(mu)\n",
    "\n",
    "\n",
    "def digit_classifier(x, layers):\n",
    "    for layer in layers:\n",
    "        x = tf.layers.dense(x,\n",
    "                            layer,\n",
    "                            activation=params['activation'])\n",
    "    logits = tf.layers.dense(x, num_digits)\n",
    "    return logits\n",
    "\n",
    "\n",
    "# loss for reconstructed image\n",
    "loss_reconstruction = -tf.reduce_sum(\n",
    "    tf.contrib.distributions.Normal(\n",
    "        decoded_images,\n",
    "        params['decoder_std']\n",
    "    ).log_prob(images),\n",
    "    axis=1\n",
    ")\n",
    "\n",
    "# loss for the current hidden space distribution parameters\n",
    "loss_prior = -0.5 * tf.reduce_sum(\n",
    "    1 + tf.log(encoder_var) - encoder_mu ** 2 - encoder_var,\n",
    "    axis=1\n",
    ")\n",
    "\n",
    "# autoencoder loss\n",
    "loss_auto_encode = tf.reduce_mean(\n",
    "    loss_reconstruction + loss_prior,\n",
    "    axis=0\n",
    ")\n",
    "\n",
    "# loss for digit_classification\n",
    "loss_digit_classifier = params['digit_classification_weight'] * tf.reduce_mean(\n",
    "    tf.nn.sparse_softmax_cross_entropy_with_logits(labels=digits,\n",
    "                                                   logits=digit_logits),\n",
    "    axis=0\n",
    ")\n",
    "\n",
    "# final loss\n",
    "loss = loss_auto_encode + loss_digit_classifier\n",
    "\n",
    "train_op = tf.train.AdamOptimizer(params['learning_rate']).minimize(loss)"
   ],
   "metadata": {
    "id": "xe42DdazKJFc",
    "pycharm": {
     "name": "#%%\n"
    }
   },
   "execution_count": null,
   "outputs": []
  },
  {
   "cell_type": "code",
   "source": [],
   "metadata": {
    "id": "wuiDKTrAKJca",
    "pycharm": {
     "name": "#%%\n"
    }
   },
   "execution_count": null,
   "outputs": []
  },
  {
   "cell_type": "code",
   "source": [
    "# Training\n",
    "\n",
    "samples = []\n",
    "losses_auto_encode = []\n",
    "losses_digit_classifier = []\n",
    "with tf.Session() as sess:\n",
    "    sess.run(tf.global_variables_initializer())\n",
    "    for epoch in range(params['epochs']):\n",
    "        print(\"Epoch # - \",epoch)\n",
    "        for _ in range(mnist.train.num_examples // params['batch_size']):\n",
    "            batch_images, batch_digits = mnist.train.next_batch(params['batch_size'])\n",
    "            sess.run(train_op, feed_dict={images: batch_images, digits: batch_digits})\n",
    "        \n",
    "        train_loss_auto_encode, train_loss_digit_classifier = sess.run(\n",
    "            [loss_auto_encode, loss_digit_classifier],\n",
    "            {images: mnist.train.images, digits: mnist.train.labels})\n",
    "        \n",
    "        losses_auto_encode.append(train_loss_auto_encode)\n",
    "        losses_digit_classifier.append(train_loss_digit_classifier)\n",
    "        \n",
    "        sample_z = np.tile(np.random.randn(1, params['z_dim']), reps=[num_digits, 1])\n",
    "        gen_samples = sess.run(decoded_images,\n",
    "                               feed_dict={z: sample_z, digit_prob: np.eye(num_digits)})\n",
    "        samples.append(gen_samples)\n",
    "\n",
    "print(\"\\nTraining completed!\")\n"
   ],
   "metadata": {
    "id": "CVSNeRHZL8FN",
    "colab": {
     "base_uri": "https://localhost:8080/"
    },
    "outputId": "4078f25c-34ac-466c-c569-d9faf2dcb26b",
    "pycharm": {
     "name": "#%%\n"
    }
   },
   "execution_count": null,
   "outputs": []
  },
  {
   "cell_type": "code",
   "source": [
    "def plot_samples(samples):\n",
    "    IMAGE_WIDTH = 1.2\n",
    "    plt.figure(figsize=(IMAGE_WIDTH * num_digits,\n",
    "                        len(samples) * IMAGE_WIDTH))\n",
    "    for epoch, images in enumerate(samples):\n",
    "        for digit, image in enumerate(images):\n",
    "            plt.subplot(len(samples),\n",
    "                        num_digits,\n",
    "                        epoch * num_digits + digit + 1)\n",
    "            plt.imshow(image.reshape((28, 28)),\n",
    "                       cmap='Greys_r')\n",
    "            plt.gca().xaxis.set_visible(False)\n",
    "            if digit == 0:\n",
    "                plt.gca().yaxis.set_ticks([])\n",
    "                plt.ylabel('epoch {}'.format(epoch + 1),\n",
    "                           verticalalignment='center',\n",
    "                           horizontalalignment='right',\n",
    "                           rotation=0,\n",
    "                           fontsize=16)\n",
    "            else:\n",
    "                plt.gca().yaxis.set_visible(False)\n",
    "                \n",
    "                \n",
    "plot_samples(samples)"
   ],
   "metadata": {
    "colab": {
     "base_uri": "https://localhost:8080/",
     "height": 1000
    },
    "id": "bhsw0JKrMHpU",
    "outputId": "e9893671-857f-4232-bd53-4e9b4a2932f7",
    "pycharm": {
     "name": "#%%\n"
    }
   },
   "execution_count": null,
   "outputs": []
  },
  {
   "cell_type": "code",
   "source": [],
   "metadata": {
    "id": "VwOViENjMj5i",
    "pycharm": {
     "name": "#%%\n"
    }
   },
   "execution_count": null,
   "outputs": []
  }
 ]
}