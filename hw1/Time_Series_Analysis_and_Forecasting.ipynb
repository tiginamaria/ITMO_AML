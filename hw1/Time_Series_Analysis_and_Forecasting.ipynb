{
 "cells": [
  {
   "cell_type": "code",
   "execution_count": 95,
   "metadata": {
    "pycharm": {
     "is_executing": true,
     "name": "#%%\n"
    }
   },
   "outputs": [],
   "source": [
    "import pandas as pd\n",
    "import matplotlib.pyplot as plt\n",
    "import statsmodels.api as sm\n",
    "from scipy import stats\n",
    "import numpy as np\n",
    "from itertools import product\n",
    "import warnings"
   ]
  },
  {
   "cell_type": "markdown",
   "metadata": {
    "pycharm": {
     "name": "#%% md\n"
    }
   },
   "source": [
    "# Dataset\n",
    "Dataset: Monthly gold cost from 1950 to 2020 ([kaggle](https://www.kaggle.com/datasets/tunguz/gold-prices?select=monthly_csv.csv))"
   ]
  },
  {
   "cell_type": "code",
   "execution_count": 96,
   "metadata": {
    "pycharm": {
     "name": "#%%\n"
    }
   },
   "outputs": [
    {
     "data": {
      "text/html": [
       "<div>\n",
       "<style scoped>\n",
       "    .dataframe tbody tr th:only-of-type {\n",
       "        vertical-align: middle;\n",
       "    }\n",
       "\n",
       "    .dataframe tbody tr th {\n",
       "        vertical-align: top;\n",
       "    }\n",
       "\n",
       "    .dataframe thead th {\n",
       "        text-align: right;\n",
       "    }\n",
       "</style>\n",
       "<table border=\"1\" class=\"dataframe\">\n",
       "  <thead>\n",
       "    <tr style=\"text-align: right;\">\n",
       "      <th></th>\n",
       "      <th>value</th>\n",
       "    </tr>\n",
       "    <tr>\n",
       "      <th>date</th>\n",
       "      <th></th>\n",
       "    </tr>\n",
       "  </thead>\n",
       "  <tbody>\n",
       "    <tr>\n",
       "      <th>1950-01-01</th>\n",
       "      <td>34.730000</td>\n",
       "    </tr>\n",
       "    <tr>\n",
       "      <th>1950-02-01</th>\n",
       "      <td>34.730000</td>\n",
       "    </tr>\n",
       "    <tr>\n",
       "      <th>1950-03-01</th>\n",
       "      <td>34.730000</td>\n",
       "    </tr>\n",
       "    <tr>\n",
       "      <th>1950-04-01</th>\n",
       "      <td>34.730000</td>\n",
       "    </tr>\n",
       "    <tr>\n",
       "      <th>1950-05-01</th>\n",
       "      <td>34.730000</td>\n",
       "    </tr>\n",
       "    <tr>\n",
       "      <th>...</th>\n",
       "      <td>...</td>\n",
       "    </tr>\n",
       "    <tr>\n",
       "      <th>2020-03-01</th>\n",
       "      <td>1593.764038</td>\n",
       "    </tr>\n",
       "    <tr>\n",
       "      <th>2020-04-01</th>\n",
       "      <td>1680.030029</td>\n",
       "    </tr>\n",
       "    <tr>\n",
       "      <th>2020-05-01</th>\n",
       "      <td>1715.697021</td>\n",
       "    </tr>\n",
       "    <tr>\n",
       "      <th>2020-06-01</th>\n",
       "      <td>1734.031982</td>\n",
       "    </tr>\n",
       "    <tr>\n",
       "      <th>2020-07-01</th>\n",
       "      <td>1840.807007</td>\n",
       "    </tr>\n",
       "  </tbody>\n",
       "</table>\n",
       "<p>847 rows × 1 columns</p>\n",
       "</div>"
      ],
      "text/plain": [
       "                  value\n",
       "date                   \n",
       "1950-01-01    34.730000\n",
       "1950-02-01    34.730000\n",
       "1950-03-01    34.730000\n",
       "1950-04-01    34.730000\n",
       "1950-05-01    34.730000\n",
       "...                 ...\n",
       "2020-03-01  1593.764038\n",
       "2020-04-01  1680.030029\n",
       "2020-05-01  1715.697021\n",
       "2020-06-01  1734.031982\n",
       "2020-07-01  1840.807007\n",
       "\n",
       "[847 rows x 1 columns]"
      ]
     },
     "execution_count": 96,
     "metadata": {},
     "output_type": "execute_result"
    }
   ],
   "source": [
    "# Data\n",
    "df = pd.read_csv('monthly_csv.csv', parse_dates=['Date'], encoding='cp1251')\n",
    "df['date'] = df['Date']\n",
    "df['value'] = df['Price']\n",
    "df = df.set_index(['date'])\n",
    "df = df[['value']]\n",
    "df = df.astype('float32')\n",
    "df"
   ]
  },
  {
   "cell_type": "code",
   "execution_count": 97,
   "metadata": {
    "pycharm": {
     "name": "#%%\n"
    }
   },
   "outputs": [
    {
     "data": {
      "image/png": "[encoded data removed]",
      "text/plain": [
       "<Figure size 1080x504 with 1 Axes>"
      ]
     },
     "metadata": {
      "needs_background": "light"
     },
     "output_type": "display_data"
    }
   ],
   "source": [
    "plt.figure(figsize=(15,7))\n",
    "df['value'].plot(color='b')\n",
    "plt.show()"
   ]
  },
  {
   "cell_type": "code",
   "execution_count": null,
   "outputs": [],
   "source": [
    "df_train = df.loc['2000-01-01':'2009-12-31'].copy()\n",
    "df_test = df.loc['2010-01-01':'2011-12-31'].copy()"
   ],
   "metadata": {
    "collapsed": false,
    "pycharm": {
     "name": "#%%\n"
    }
   }
  },
  {
   "cell_type": "code",
   "execution_count": null,
   "outputs": [],
   "source": [
    "df_train.shape[0] / 12, df_test.shape[0] / 12"
   ],
   "metadata": {
    "collapsed": false,
    "pycharm": {
     "name": "#%%\n"
    }
   }
  },
  {
   "cell_type": "code",
   "execution_count": null,
   "outputs": [],
   "source": [
    "plt.figure(figsize=(15,7))\n",
    "df_train['value'].plot(color='b')\n",
    "df_test['value'].plot(color='r')\n",
    "plt.show()"
   ],
   "metadata": {
    "collapsed": false,
    "pycharm": {
     "name": "#%%\n"
    }
   }
  },
  {
   "cell_type": "markdown",
   "source": [
    "## Data autocorrelation\n",
    "As expected, the most correlated data are:\n",
    "- day with several previous days (~1)\n",
    "- day with day a year ago (~365)\n",
    "\n",
    "while data for opposite seasons (~180) is anticorrelated"
   ],
   "metadata": {
    "collapsed": false,
    "pycharm": {
     "name": "#%% md\n"
    }
   }
  },
  {
   "cell_type": "code",
   "execution_count": null,
   "outputs": [],
   "source": [
    "fig = sm.graphics.tsa.plot_acf(df_train['value'], lags=100)\n",
    "fig.set_size_inches((15, 6))\n",
    "fig.tight_layout()\n",
    "plt.show()\n",
    "\n",
    "fig = sm.graphics.tsa.plot_pacf(df_train['value'], lags=20)\n",
    "fig.set_size_inches((15, 6))\n",
    "fig.tight_layout()\n",
    "plt.show()"
   ],
   "metadata": {
    "collapsed": false,
    "pycharm": {
     "name": "#%%\n"
    }
   }
  },
  {
   "cell_type": "markdown",
   "source": [
    "## Components evaluation on of time-series"
   ],
   "metadata": {
    "collapsed": false,
    "pycharm": {
     "name": "#%% md\n"
    }
   }
  },
  {
   "cell_type": "code",
   "execution_count": null,
   "outputs": [],
   "source": [
    "fig = sm.tsa.seasonal_decompose(df_train['value'], period=12).plot()\n",
    "fig.set_size_inches((15, 12))\n",
    "fig.tight_layout()\n",
    "plt.show()"
   ],
   "metadata": {
    "collapsed": false,
    "pycharm": {
     "name": "#%%\n"
    }
   }
  },
  {
   "cell_type": "markdown",
   "source": [
    "### Dickey-Fuller test for time-series stationarity.\n",
    "As expected, the data is non-stationary p>0.05 (as all data with seasons)"
   ],
   "metadata": {
    "collapsed": false,
    "pycharm": {
     "name": "#%% md\n"
    }
   }
  },
  {
   "cell_type": "code",
   "execution_count": null,
   "outputs": [],
   "source": [
    "print(\"Dickey-Fuller test: p=%f\" % sm.tsa.stattools.adfuller(df_train['value'])[1])"
   ],
   "metadata": {
    "collapsed": false,
    "pycharm": {
     "name": "#%%\n"
    }
   }
  },
  {
   "cell_type": "markdown",
   "source": [
    "## Box-Cox transformation for dispersion stationarity\n",
    "To apply Box-Cox transformation I add minimum `TMAX` value to all `TMAX` as it can be negative.\\\n",
    "Box-Cox transformation make dispersion lower but do not help much with this case as we do not have visible "
   ],
   "metadata": {
    "collapsed": false,
    "pycharm": {
     "name": "#%% md\n"
    }
   }
  },
  {
   "cell_type": "code",
   "execution_count": null,
   "outputs": [],
   "source": [
    "MIN_VALUE = df_train['value'].min()\n",
    "print(\"Min value to substract: %f\" % MIN_VALUE)\n",
    "df_train['value_box'], lmbda = stats.boxcox(df_train['value'] + 0 if MIN_VALUE > 0 else np.abs(MIN_VALUE) + 1e-6)\n",
    "print(\"Best Box-Cox parameter: %f\" % lmbda)"
   ],
   "metadata": {
    "collapsed": false,
    "pycharm": {
     "name": "#%%\n"
    }
   }
  },
  {
   "cell_type": "code",
   "execution_count": null,
   "outputs": [],
   "source": [
    "plt.figure(figsize=(15,6))\n",
    "plt.plot(df_train['value_box'], c='blue')\n",
    "plt.ylabel('Transformed by Box-Cox data')\n",
    "plt.show()"
   ],
   "metadata": {
    "collapsed": false,
    "pycharm": {
     "name": "#%%\n"
    }
   }
  },
  {
   "cell_type": "code",
   "execution_count": null,
   "outputs": [],
   "source": [
    "fig = sm.tsa.seasonal_decompose(df_train['value_box'], period=12).plot()\n",
    "fig.set_size_inches((15, 12))\n",
    "fig.tight_layout()\n",
    "plt.show()"
   ],
   "metadata": {
    "collapsed": false,
    "pycharm": {
     "name": "#%%\n"
    }
   }
  },
  {
   "cell_type": "code",
   "execution_count": null,
   "outputs": [],
   "source": [
    "print(\"Dickey-Fuller test: p=%f\" % sm.tsa.stattools.adfuller(df_train['value_box'])[1])"
   ],
   "metadata": {
    "collapsed": false,
    "pycharm": {
     "name": "#%%\n"
    }
   }
  },
  {
   "cell_type": "markdown",
   "source": [
    "## Derivative transformation for seasoning stationarity\n",
    "Method of derivative helps to make seasoning data stationar by substruction data before lag from current."
   ],
   "metadata": {
    "collapsed": false,
    "pycharm": {
     "name": "#%% md\n"
    }
   }
  },
  {
   "cell_type": "code",
   "execution_count": null,
   "outputs": [],
   "source": [
    "df_train['value_box_diff1'] = df_train['value_box'].diff()"
   ],
   "metadata": {
    "collapsed": false,
    "pycharm": {
     "name": "#%%\n"
    }
   }
  },
  {
   "cell_type": "code",
   "execution_count": null,
   "outputs": [],
   "source": [
    "print(\"Dickey-Fuller test: p=%f\" % sm.tsa.stattools.adfuller(df_train['value_box_diff1'][1:], autolag='AIC')[1])"
   ],
   "metadata": {
    "collapsed": false,
    "pycharm": {
     "name": "#%%\n"
    }
   }
  },
  {
   "cell_type": "code",
   "execution_count": null,
   "outputs": [],
   "source": [
    "plt.figure(figsize=(15,6))\n",
    "plt.plot(df_train['value_box_diff1'], c='blue')\n",
    "plt.ylabel('Transformed by derivative data')\n",
    "plt.show()"
   ],
   "metadata": {
    "collapsed": false,
    "pycharm": {
     "name": "#%%\n"
    }
   }
  },
  {
   "cell_type": "code",
   "execution_count": null,
   "outputs": [],
   "source": [
    "fig = sm.tsa.seasonal_decompose(df_train['value_box_diff1'][1:]).plot()\n",
    "fig.set_size_inches((15, 12))\n",
    "fig.tight_layout()\n",
    "plt.show()"
   ],
   "metadata": {
    "collapsed": false,
    "pycharm": {
     "name": "#%%\n"
    }
   }
  },
  {
   "cell_type": "code",
   "execution_count": null,
   "outputs": [],
   "source": [
    "df_train['value_box_diff1s'] = df_train['value_box'] - df_train['value_box'].shift(12)\n",
    "df_train['value_box_diff2s'] = df_train['value_box_diff1s'] - df_train['value_box_diff1s'].shift(12)"
   ],
   "metadata": {
    "collapsed": false,
    "pycharm": {
     "name": "#%%\n"
    }
   }
  },
  {
   "cell_type": "code",
   "execution_count": null,
   "outputs": [],
   "source": [
    "print(\"Dickey-Fuller test: p=%f\" % sm.tsa.stattools.adfuller(df_train['value_box_diff1s'][12:], autolag='AIC')[1])"
   ],
   "metadata": {
    "collapsed": false,
    "pycharm": {
     "name": "#%%\n"
    }
   }
  },
  {
   "cell_type": "code",
   "execution_count": null,
   "outputs": [],
   "source": [
    "fig = sm.tsa.seasonal_decompose(df_train['value_box_diff1s'][12:]).plot()\n",
    "fig.set_size_inches((15, 12))\n",
    "fig.tight_layout()\n",
    "plt.show()"
   ],
   "metadata": {
    "collapsed": false,
    "pycharm": {
     "name": "#%%\n"
    }
   }
  },
  {
   "cell_type": "markdown",
   "source": [
    "## SARIMA model\n",
    "\n",
    "parameters for SARIMA model\\\n",
    "better use values < 10\\\n",
    "p and P - show how many autoregressive (AR) terms for non-seasonal (p) and Seasonal (P) component do we want to use\\\n",
    "q and Q - show how many moving average (MA) terms for non-seasonal (q) and Seasonal (Q) component do we want to use\\\n",
    "d - show how many times have we derivated our series 1-step-wise\\\n",
    "D - show how many times have we derivated our series Period-step-wise"
   ],
   "metadata": {
    "collapsed": false,
    "pycharm": {
     "name": "#%% md\n"
    }
   }
  },
  {
   "cell_type": "code",
   "execution_count": null,
   "outputs": [],
   "source": [
    "fig = sm.graphics.tsa.plot_acf(df_train['value_box'], lags=30)\n",
    "fig.set_size_inches((15, 6))\n",
    "fig.tight_layout()\n",
    "plt.show()\n",
    "\n",
    "fig = sm.graphics.tsa.plot_pacf(df_train['value_box'], lags=30)\n",
    "fig.set_size_inches((15, 6))\n",
    "fig.tight_layout()\n",
    "plt.show()"
   ],
   "metadata": {
    "collapsed": false,
    "pycharm": {
     "name": "#%%\n"
    }
   }
  },
  {
   "cell_type": "code",
   "execution_count": null,
   "outputs": [],
   "source": [
    "qs = [9, 10, 11]\n",
    "Qs = [0, 1]\n",
    "ps = [1]\n",
    "Ps = [0]\n",
    "d = 1\n",
    "D = 1\n",
    "\n",
    "parameters = product(ps, qs, Ps, Qs)\n",
    "parameters_list = list(parameters)\n",
    "print (\"Number of analysed models:\", len(parameters_list))"
   ],
   "metadata": {
    "collapsed": false,
    "pycharm": {
     "name": "#%%\n"
    }
   }
  },
  {
   "cell_type": "code",
   "execution_count": null,
   "outputs": [],
   "source": [
    "results = []\n",
    "best_aic = float(\"inf\")\n",
    "\n",
    "# ignore warnings \n",
    "warnings.filterwarnings('ignore')\n",
    "\n",
    "for param in parameters_list:\n",
    "    \n",
    "    #try except for the case of wrong parameters\n",
    "    try:\n",
    "        model=sm.tsa.statespace.SARIMAX(df_train['value_box'], \n",
    "                                        order=(param[0], d, param[1]), \n",
    "                                        seasonal_order=(param[2], D, param[3], 12)).fit(disp=-1)\n",
    "        \n",
    "    #print wrong parameters and go on\n",
    "    # AIC criteria: \n",
    "    except ValueError:\n",
    "        #print('wrong parameters:', param)\n",
    "        continue\n",
    "    aic = model.aic\n",
    "    #print(aic)\n",
    "\n",
    "    # save best model, aic, parameters\n",
    "    if aic < best_aic:\n",
    "        best_model = model\n",
    "        best_aic = aic\n",
    "        best_param = param\n",
    "        results.append([param, model.aic])\n",
    "        #print(results)\n",
    "result_table = pd.DataFrame(results)\n",
    "result_table.columns = ['parameters', 'aic']\n",
    "print(result_table.sort_values(by = 'aic', ascending=True).head())     "
   ],
   "metadata": {
    "collapsed": false,
    "pycharm": {
     "name": "#%%\n"
    }
   }
  },
  {
   "cell_type": "code",
   "execution_count": null,
   "outputs": [],
   "source": [
    "result_table = pd.DataFrame(results)\n",
    "result_table.columns = ['parameters', 'aic']\n",
    "print(result_table.sort_values(by = 'aic', ascending=True).head())"
   ],
   "metadata": {
    "collapsed": false,
    "pycharm": {
     "name": "#%%\n"
    }
   }
  },
  {
   "cell_type": "code",
   "execution_count": null,
   "outputs": [],
   "source": [
    "print(best_model.summary())"
   ],
   "metadata": {
    "collapsed": false,
    "pycharm": {
     "name": "#%%\n"
    }
   }
  },
  {
   "cell_type": "code",
   "execution_count": null,
   "outputs": [],
   "source": [
    "def invboxcox(y, lmbda):\n",
    "    if lmbda == 0:\n",
    "        return np.exp(y)\n",
    "    else:\n",
    "        return np.exp(np.log(lmbda * y + 1) / lmbda) + (MIN_VALUE + 1e6 if MIN_VALUE < 0 else 0)"
   ],
   "metadata": {
    "collapsed": false,
    "pycharm": {
     "name": "#%%\n"
    }
   }
  },
  {
   "cell_type": "code",
   "execution_count": null,
   "outputs": [],
   "source": [
    "df_train['value_model'] = invboxcox(best_model.fittedvalues, lmbda)\n",
    "df_test['value_forecast'] = invboxcox(best_model.predict(start=12 * 10, end=12 * 13), lmbda)"
   ],
   "metadata": {
    "collapsed": false,
    "pycharm": {
     "name": "#%%\n"
    }
   }
  },
  {
   "cell_type": "code",
   "execution_count": null,
   "outputs": [],
   "source": [
    "plt.figure(figsize=(15,7))\n",
    "df_train['value'].plot(color='b')\n",
    "# df_train['value_model'][12:].plot(color='r')\n",
    "df_test['value'].plot(color='b')\n",
    "df_test['value_forecast'].plot(color='r')\n",
    "plt.show()"
   ],
   "metadata": {
    "collapsed": false,
    "pycharm": {
     "name": "#%%\n"
    }
   }
  },
  {
   "cell_type": "code",
   "execution_count": null,
   "outputs": [],
   "source": [
    "from sklearn.metrics import r2_score, mean_squared_error, mean_absolute_percentage_error\n",
    "\n",
    "print('R2 = %f' % r2_score(df_test['value'], df_test['value_forecast']))\n",
    "print('MSE = %f' % mean_squared_error(df_test['value'], df_test['value_forecast']))\n",
    "print('MAPE = %f' % mean_absolute_percentage_error(df_test['value'], df_test['value_forecast']))"
   ],
   "metadata": {
    "collapsed": false,
    "pycharm": {
     "name": "#%%\n"
    }
   }
  },
  {
   "cell_type": "markdown",
   "source": [
    "## LSTM"
   ],
   "metadata": {
    "collapsed": false,
    "pycharm": {
     "name": "#%% md\n"
    }
   }
  },
  {
   "cell_type": "markdown",
   "source": [
    "RNN - LSTM for time-series forecasting\n",
    "partly follows blog https://machinelearningmastery.com/introduction-to-time-series-forecasting-with-python/"
   ],
   "metadata": {
    "collapsed": false,
    "pycharm": {
     "name": "#%% md\n"
    }
   }
  },
  {
   "cell_type": "code",
   "execution_count": null,
   "outputs": [],
   "source": [
    "import pandas as pd\n",
    "from sklearn.metrics import mean_squared_error\n",
    "from sklearn.preprocessing import MinMaxScaler\n",
    "from tensorflow.keras.models import Sequential\n",
    "from tensorflow.keras.layers import Dense\n",
    "from tensorflow.keras.layers import LSTM\n",
    "from math import sqrt\n",
    "from matplotlib import pyplot as plt\n",
    "from numpy import array\n",
    " \n",
    "# trajectory matrix for solving supervized learning task\n",
    "def series_to_supervised(data, n_in=1, n_out=1, dropnan=True):\n",
    "    n_vars = 1 if type(data) is list else data.shape[1]\n",
    "    df = pd.DataFrame(data)\n",
    "    cols, names = list(), list()\n",
    "    # input series (t-n, ... t-1)\n",
    "    for i in range(n_in, 0, -1):\n",
    "        cols.append(df.shift(i))\n",
    "        names += [('var%d(t-%d)' % (j + 1, i)) for j in range(n_vars)]\n",
    "    # prediction series (t, t+1, ... t+n)\n",
    "    for i in range(0, n_out):\n",
    "        cols.append(df.shift(-i))\n",
    "        if i == 0:\n",
    "            names += [('var%d(t)' % (j + 1)) for j in range(n_vars)]\n",
    "        else:\n",
    "            names += [('var%d(t+%d)' % (j + 1, i)) for j in range(n_vars)]\n",
    "    agg = pd.concat(cols, axis=1)\n",
    "    agg.columns = names\n",
    "    if dropnan:\n",
    "        agg.dropna(inplace=True)\n",
    "    return agg\n",
    "\n",
    "\n",
    "# diffential series interval\n",
    "def difference(dataset, interval=1):\n",
    "    diff = list()\n",
    "    for i in range(interval, len(dataset)):\n",
    "        value = dataset[i] - dataset[i - interval]\n",
    "        diff.append(value)\n",
    "    return pd.Series(diff)\n",
    "\n",
    " \n",
    "# train / test splitting\n",
    "def prepare_data(series, n_batch, n_test, n_lag, n_seq):\n",
    "    raw_values = series.values\n",
    "    diff_series = difference(raw_values, 1)\n",
    "    diff_values = diff_series.values\n",
    "    diff_values = diff_values.reshape(len(diff_values), 1)\n",
    "    scaler = MinMaxScaler(feature_range=(-1, 1))\n",
    "    scaled_values = scaler.fit_transform(diff_values)\n",
    "    scaled_values = scaled_values.reshape(len(scaled_values), 1)\n",
    "    supervised = series_to_supervised(scaled_values, n_lag, n_seq)\n",
    "    supervised_values = supervised.values\n",
    "    train, test = supervised_values[0:-n_test-n_seq+1], supervised_values[-n_test:]\n",
    "    \n",
    "    return scaler, train, test\n",
    "\n",
    "\n",
    "# fit an LSTM network\n",
    "def fit_lstm(train, n_lag, n_seq, n_batch, nb_epoch, n_neurons):\n",
    "    # reshape training into [samples, timesteps, features]\n",
    "    X, y = train[:, 0:n_lag], train[:, n_lag:]\n",
    "    print(X.shape, y.shape)\n",
    "    X = X.reshape(X.shape[0], 1, X.shape[1])\n",
    "    \n",
    "    model = Sequential()\n",
    "    # stateful = True - keep state in memory;\n",
    "    model.add(LSTM(n_neurons, input_shape=(X.shape[1], X.shape[2]), dropout=0.5))\n",
    "    model.add(Dense(y.shape[1]))\n",
    "    model.compile(loss='mean_squared_error')\n",
    "    model.fit(X, y, validation_split=0.2,epochs=nb_epoch, batch_size=n_batch, verbose=1, shuffle=True)\n",
    "    \n",
    "    return model\n",
    " \n",
    "# 1 step of forecasting\n",
    "def forecast_lstm(model, X, n_batch):\n",
    "    # reshape input pattern to [samples, timesteps, features]\n",
    "    X = X.reshape(1, 1, len(X))\n",
    "    # make forecast\n",
    "    forecast = model.predict(X, batch_size=n_batch)\n",
    "    # convert to array\n",
    "    \n",
    "    return [x for x in forecast[0, :]]\n",
    " \n",
    "# Forecasting\n",
    "def make_forecasts(model, n_batch, train, test, n_test, n_lag, n_seq):\n",
    "    forecasts = list()\n",
    "    for i in range(n_test):\n",
    "        X, y = test[i, 0:n_lag], test[i, n_lag:]\n",
    "        # make forecast\n",
    "        forecast = forecast_lstm(model, X, n_batch)\n",
    "        # store the forecast\n",
    "        forecasts.append(forecast)\n",
    "        \n",
    "    return forecasts\n",
    " \n",
    "# inverse difference\n",
    "def inverse_difference(last_ob, forecast):\n",
    "    # invert first forecast\n",
    "    inverted = list()\n",
    "    inverted.append(forecast[0] + last_ob)\n",
    "    # propagate difference forecast using inverted first value\n",
    "    for i in range(1, len(forecast)):\n",
    "        inverted.append(forecast[i] + inverted[i-1])\n",
    "        \n",
    "    return inverted\n",
    " \n",
    "# inverse transformation\n",
    "def inverse_transform(series, forecasts, scaler, n_test, n_lag, n_seq):\n",
    "    inverted = list()\n",
    "    for i in range(len(forecasts)):\n",
    "    # create array from forecast\n",
    "        forecast = array(forecasts[i])\n",
    "        forecast = forecast.reshape(1, len(forecast))\n",
    "        # invert scaling\n",
    "        inv_scale = scaler.inverse_transform(forecast)\n",
    "        inv_scale = inv_scale[0, :]\n",
    "        # invert differencing\n",
    "        print(len(series), n_test, n_seq, len(series) - n_test - n_seq + i)\n",
    "        index = len(series) - n_test - n_seq + i\n",
    "        last_ob = series.values[index]\n",
    "        inv_diff = inverse_difference(last_ob, inv_scale)\n",
    "        # store\n",
    "        inverted.append(inv_diff)\n",
    "        \n",
    "    return inverted"
   ],
   "metadata": {
    "collapsed": false,
    "pycharm": {
     "name": "#%%\n"
    }
   }
  },
  {
   "cell_type": "markdown",
   "source": [
    "Hyperparameters initialization and training the model"
   ],
   "metadata": {
    "collapsed": false,
    "pycharm": {
     "name": "#%% md\n"
    }
   }
  },
  {
   "cell_type": "code",
   "execution_count": null,
   "outputs": [],
   "source": [
    "n_lag = 12\n",
    "n_seq = 24\n",
    "n_test = 1\n",
    "n_epochs = 50\n",
    "n_batch = 1\n",
    "n_neurons = 10"
   ],
   "metadata": {
    "collapsed": false,
    "pycharm": {
     "name": "#%%\n"
    }
   }
  },
  {
   "cell_type": "code",
   "execution_count": null,
   "outputs": [],
   "source": [
    "df = df.loc['2000-01-01':'2011-12-31']"
   ],
   "metadata": {
    "collapsed": false,
    "pycharm": {
     "name": "#%%\n"
    }
   }
  },
  {
   "cell_type": "code",
   "execution_count": null,
   "outputs": [],
   "source": [
    "scaler, train, test = prepare_data(df, n_batch, n_test, n_lag, n_seq)\n",
    "\n",
    "model = fit_lstm(train, n_lag, n_seq, n_batch, n_epochs, n_neurons)\n",
    "\n",
    "forecasts = make_forecasts(model, n_batch, train, test, n_test, n_lag, n_seq)\n",
    "\n",
    "forecasts = inverse_transform(df, forecasts, scaler, n_test, n_lag, n_seq)"
   ],
   "metadata": {
    "collapsed": false,
    "pycharm": {
     "name": "#%%\n"
    }
   }
  },
  {
   "cell_type": "code",
   "execution_count": null,
   "outputs": [],
   "source": [
    "# visualize\n",
    "\n",
    "plt.figure(figsize = (15,6))\n",
    "plt.plot(df, c='blue')\n",
    "\n",
    "xaxis = df.index.values[-len(forecasts[0]):]\n",
    "yaxis = forecasts[0]\n",
    "plt.plot(xaxis, yaxis, color='r')\n",
    "\n",
    "plt.ylabel('Max day temperature in Sydney')\n",
    "plt.xlabel('Days since January 2012 to January 2017')\n",
    "\n",
    "plt.legend(('time-series', 'RNN forecast'),\n",
    "           shadow=True, loc='upper left', handlelength=1.5, fontsize=16)\n",
    "plt.show()\n"
   ],
   "metadata": {
    "collapsed": false,
    "pycharm": {
     "name": "#%%\n"
    }
   }
  },
  {
   "cell_type": "code",
   "execution_count": null,
   "outputs": [],
   "source": [
    "df_test['value_forecast'] = forecasts[0]"
   ],
   "metadata": {
    "collapsed": false,
    "pycharm": {
     "name": "#%%\n"
    }
   }
  },
  {
   "cell_type": "code",
   "execution_count": null,
   "outputs": [],
   "source": [
    "from sklearn.metrics import r2_score, mean_squared_error, mean_absolute_percentage_error\n",
    "\n",
    "print('R2 = %f' % r2_score(df_test['value'], df_test['value_forecast']))\n",
    "print('MSE = %f' % mean_squared_error(df_test['value'], df_test['value_forecast']))\n",
    "print('MAPE = %f' % mean_absolute_percentage_error(df_test['value'], df_test['value_forecast']))"
   ],
   "metadata": {
    "collapsed": false,
    "pycharm": {
     "name": "#%%\n"
    }
   }
  }
 ],
 "metadata": {
  "colab": {
   "collapsed_sections": [],
   "name": "Multi_Step_LSTM.ipynb",
   "provenance": []
  },
  "kernelspec": {
   "display_name": "Python 3 (ipykernel)",
   "language": "python",
   "name": "python3"
  },
  "language_info": {
   "codemirror_mode": {
    "name": "ipython",
    "version": 3
   },
   "file_extension": ".py",
   "mimetype": "text/x-python",
   "name": "python",
   "nbconvert_exporter": "python",
   "pygments_lexer": "ipython3",
   "version": "3.9.5"
  }
 },
 "nbformat": 4,
 "nbformat_minor": 1
}